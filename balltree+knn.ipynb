{
 "cells": [
  {
   "cell_type": "code",
   "execution_count": 1,
   "metadata": {
    "collapsed": true
   },
   "outputs": [],
   "source": [
    "import numpy as np\n",
    "import pandas as pd\n",
    "import lightgbm as lgb\n",
    "import scipy.io as scipy_io\n",
    "from sklearn.model_selection import train_test_split\n",
    "from scipy import sparse\n",
    "from sklearn import metrics\n",
    "import matplotlib.pyplot as plt\n",
    "%matplotlib inline\n"
   ]
  },
  {
   "cell_type": "markdown",
   "metadata": {},
   "source": [
    "### load data"
   ]
  },
  {
   "cell_type": "code",
   "execution_count": 5,
   "metadata": {
    "collapsed": true
   },
   "outputs": [],
   "source": [
    "data = pd.read_csv('train.csv')\n",
    "members = pd.read_csv('members.csv')\n",
    "songs = pd.read_csv('songs.csv')\n",
    "song_extra_info = pd.read_csv('song_extra_info.csv')"
   ]
  },
  {
   "cell_type": "markdown",
   "metadata": {},
   "source": [
    "### split data into train & validation"
   ]
  },
  {
   "cell_type": "code",
   "execution_count": 21,
   "metadata": {},
   "outputs": [
    {
     "name": "stderr",
     "output_type": "stream",
     "text": [
      "/anaconda3/lib/python3.6/site-packages/sklearn/model_selection/_split.py:2026: FutureWarning: From version 0.21, test_size will always complement train_size unless both are specified.\n",
      "  FutureWarning)\n"
     ]
    }
   ],
   "source": [
    "feature_data = data.drop('target',1)\n",
    "target_data = data['target']\n",
    "X_train, X_val, Y_train, Y_val = train_test_split(feature_data, target_data, train_size=0.75)\n",
    "\n",
    "train = X_train.join(Y_train)  # train set\n",
    "test = X_val.join(Y_val)  # validation set"
   ]
  },
  {
   "cell_type": "markdown",
   "metadata": {},
   "source": [
    "### original matrix"
   ]
  },
  {
   "cell_type": "code",
   "execution_count": 22,
   "metadata": {
    "collapsed": true
   },
   "outputs": [],
   "source": [
    "rowin = train['msno'].unique()\n",
    "colin = train['song_id'].unique()\n",
    "spm = sparse.lil_matrix((len(rowin),len(colin)))\n",
    "dictuser = dict(zip(rowin,range(len(rowin))))\n",
    "dictsong = dict(zip(colin,range(len(colin))))\n",
    "for ind in train.index:\n",
    "    userp = dictuser[train.msno[ind]]\n",
    "    songp = dictsong[train.song_id[ind]]\n",
    "    spm[userp,songp] = (2 if train.target[ind] == 1 else 1)\n",
    "split_orig_mat = sparse.lil_matrix(spm)"
   ]
  },
  {
   "cell_type": "markdown",
   "metadata": {},
   "source": [
    "### test matrix"
   ]
  },
  {
   "cell_type": "code",
   "execution_count": null,
   "metadata": {
    "collapsed": true
   },
   "outputs": [],
   "source": [
    "# encode extra test userid and songid with same dictionary as train\n",
    "train_userid = set(train.msno.unique())\n",
    "test_userid = set(test.msno.unique())\n",
    "diff_userid = test_userid - train_userid   # id that in test but not in train\n",
    "testuserdict = dict(zip(diff_userid,range(len(train_userid)+len(diff_userid))))\n",
    "\n",
    "train_songid = set(train.song_id.unique())\n",
    "test_songid = set(test.song_id.unique())\n",
    "diff_songid = test_songid - train_songid   # id that in test but not in train\n",
    "testsongdict = dict(zip(diff_songid,range(len(train_songid)+len(diff_songid))))"
   ]
  },
  {
   "cell_type": "code",
   "execution_count": null,
   "metadata": {
    "collapsed": true
   },
   "outputs": [],
   "source": [
    "# join two dictionaries\n",
    "dictuser.update(testuserdict)\n",
    "dictsong.update(testsongdict)"
   ]
  },
  {
   "cell_type": "code",
   "execution_count": null,
   "metadata": {
    "collapsed": true
   },
   "outputs": [],
   "source": [
    "# convert ids from str to number\n",
    "testmat = pd.DataFrame()\n",
    "testmat['userid'] = test.msno.apply(lambda x: dictuser[x])\n",
    "testmat['songid'] = test.song_id.apply(lambda x: dictsong[x])\n"
   ]
  },
  {
   "cell_type": "markdown",
   "metadata": {},
   "source": [
    "### model"
   ]
  },
  {
   "cell_type": "code",
   "execution_count": null,
   "metadata": {
    "collapsed": true
   },
   "outputs": [],
   "source": [
    "# %load source.py\n",
    "import pdb\n",
    "import time\n",
    "from sklearn.neighbors import BallTree\n",
    "from sklearn.decomposition import TruncatedSVD\n",
    "\n",
    "\"\"\" truncated SVD and ball_tree\"\"\"\n",
    "matrix = split_orig_mat\n",
    "svd =  TruncatedSVD(n_components=10)\n",
    "matrix_down = svd.fit_transform(matrix)\n",
    "tree= BallTree(matrix_down,leaf_size=5)\n",
    "\n",
    "query_matrix = testmat\n",
    "user_id = query_matrix[:,0]\n",
    "song_id = query_matrix[:,1]\n",
    "output=np.zeros(user_id.size)\n",
    "t_past = time.time()\n",
    "\n",
    "\"\"\" without optimization \"\"\"\n",
    "for item in range(user_id.size):\n",
    "    if item %1000==0:\n",
    "        print str(item)+': time: '+ str(time.time()-t_past)\n",
    "        t_past = time.time()\n",
    "    if user_id[item]>=matrix.shape[0] or song_id[item]>=matrix.shape[1] :\n",
    "        output[item] =0.5\n",
    "    else:\n",
    "        distance, ids =  tree.query(matrix_down[user_id[item],:].reshape(1,-1), k=5000)\n",
    "        similarity = (distance-distance.min())/(distance.max()-distance.min())\n",
    "        similarity = (1 - similarity)\n",
    "        similarity = similarity.T\n",
    "\n",
    "        song_val = matrix[ids,song_id[item]].todense()\n",
    "        useful_id = (song_val!=0)\n",
    "\n",
    "        output[item]=np.multiply((song_val[useful_id]).squeeze(),similarity[useful_id]).sum()/(np.sum(similarity[useful_id])+0.001)/2.0\n",
    "\n",
    "scipy_io.savemat('./mat/result_val.mat',{'output':output})"
   ]
  },
  {
   "cell_type": "markdown",
   "metadata": {},
   "source": [
    "### plot AUC"
   ]
  },
  {
   "cell_type": "code",
   "execution_count": 10,
   "metadata": {
    "collapsed": true
   },
   "outputs": [],
   "source": [
    "val_preds = scipy_io.loadmat('./mat/result_val.mat')['output']\n",
    "val_preds = val_preds.T\n",
    "\n",
    "val_true = test['target']"
   ]
  },
  {
   "cell_type": "code",
   "execution_count": 60,
   "metadata": {
    "collapsed": true
   },
   "outputs": [],
   "source": [
    "fpr, tpr, thresholds = metrics.roc_curve(val_true, val_preds)\n",
    "auc_score = metrics.auc(fpr,tpr)"
   ]
  },
  {
   "cell_type": "code",
   "execution_count": 64,
   "metadata": {},
   "outputs": [
    {
     "data": {
      "image/png": "[encoded data removed]",
      "text/plain": [
       "<matplotlib.figure.Figure at 0x1a4f5c9cf8>"
      ]
     },
     "metadata": {},
     "output_type": "display_data"
    }
   ],
   "source": [
    "plt.figure(figsize=(12,7))\n",
    "plt.plot(fpr, tpr, label='BallTree(AUC=%.3f)' % auc_score)\n",
    "\n",
    "plt.xlabel(\"fpr\")\n",
    "plt.ylabel(\"tpr\")\n",
    "plt.title(\"ROC Curve\")\n",
    "plt.legend()\n",
    "plt.xlim([0, 1])\n",
    "plt.ylim([0, 1])\n",
    "plt.show()"
   ]
  },
  {
   "cell_type": "code",
   "execution_count": null,
   "metadata": {
    "collapsed": true
   },
   "outputs": [],
   "source": []
  }
 ],
 "metadata": {
  "kernelspec": {
   "display_name": "Python 3",
   "language": "python",
   "name": "python3"
  },
  "language_info": {
   "codemirror_mode": {
    "name": "ipython",
    "version": 3
   },
   "file_extension": ".py",
   "mimetype": "text/x-python",
   "name": "python",
   "nbconvert_exporter": "python",
   "pygments_lexer": "ipython3",
   "version": "3.6.3"
  }
 },
 "nbformat": 4,
 "nbformat_minor": 2
}
