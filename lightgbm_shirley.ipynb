{
 "cells": [
  {
   "cell_type": "code",
   "execution_count": 1,
   "metadata": {
    "collapsed": true
   },
   "outputs": [],
   "source": [
    "import numpy as np\n",
    "import pandas as pd\n",
    "from scipy import sparse\n",
    "import re\n",
    "import lightgbm as lgb"
   ]
  },
  {
   "cell_type": "code",
   "execution_count": 2,
   "metadata": {
    "collapsed": true
   },
   "outputs": [],
   "source": [
    "train = pd.read_csv('train.csv')\n",
    "test = pd.read_csv('test.csv')\n",
    "song = pd.read_csv('songs.csv')\n",
    "members =  pd.read_csv('members.csv')"
   ]
  },
  {
   "cell_type": "code",
   "execution_count": 3,
   "metadata": {
    "collapsed": true
   },
   "outputs": [],
   "source": [
    "msk = np.random.rand(len(train)) <= 0.75\n",
    "train_df = train[msk]\n",
    "val_df = train[~msk]"
   ]
  },
  {
   "cell_type": "code",
   "execution_count": 4,
   "metadata": {
    "collapsed": true
   },
   "outputs": [],
   "source": [
    "train = train_df\n",
    "test = val_df"
   ]
  },
  {
   "cell_type": "code",
   "execution_count": 5,
   "metadata": {
    "collapsed": true
   },
   "outputs": [],
   "source": [
    "#user_bias, user_freq, song_bias, song_freq\n",
    "tuf = train.groupby('msno')['target'].agg(['sum','count']) \n",
    "tuf = tuf.reset_index()\n",
    "tuf.columns.values[1:3] = ['user_sum','user_count']\n",
    "tuf['user_freq'] = (tuf.user_sum+1)/(tuf.user_count+2) #Laplacian smoothing\n",
    "train = train.merge(tuf,on = 'msno',how = 'left')\n",
    "train.loc[train.user_count == 1,'user_sum'] = 0 \n",
    "train.loc[train.user_count == 1,'user_freq'] = 0.5 \n",
    "train['is_new_user'] = train.user_count == 1\n",
    "\n",
    "#prepare test's user bias\n",
    "test = test.merge(tuf,on = 'msno',how = 'left')\n",
    "test['is_new_user'] = pd.isnull(test.user_count)\n",
    "test.loc[pd.isnull(test.user_count),'user_count'] = 1\n",
    "test.loc[pd.isnull(test.user_sum),'user_sum'] = 0\n",
    "test.loc[pd.isnull(test.user_freq),'user_freq'] = 0.5\n",
    "\n",
    "#prepare songs' bias\n",
    "tuf = train.groupby('song_id')['target'].agg(['sum','count']) #Laplacian smoothing\n",
    "tuf = tuf.reset_index()\n",
    "tuf.columns.values[1:3] = ['song_sum','song_count']\n",
    "tuf['song_freq'] = (tuf.song_sum+1)/(tuf.song_count+2)\n",
    "train = train.merge(tuf,on = 'song_id',how = 'left')\n",
    "train.loc[train.song_count == 1,'song_sum'] = 0\n",
    "train.loc[train.song_count == 1,'song_freq'] = 0.5 \n",
    "train['is_new_song'] = train.song_count == 1\n",
    "\n",
    "#prepare test's songs' bias\n",
    "test = test.merge(tuf,on = 'song_id',how = 'left')\n",
    "test['is_new_song'] = pd.isnull(test.song_count)\n",
    "test.loc[pd.isnull(test.song_count),'song_count'] = 1\n",
    "test.loc[pd.isnull(test.song_freq),'song_freq'] = 0.5\n",
    "test.loc[pd.isnull(test.song_sum),'song_sum'] = 0"
   ]
  },
  {
   "cell_type": "markdown",
   "metadata": {},
   "source": [
    "Artist Preparation: \n",
    "1. find the intersection of artist between the train and test\n",
    "2. treat the compound artist seperately from single artist\n",
    "3. if a single artist from test set hasn't appeared before, we can do nothing, however, if a compound artist has appeared, we can possibly estimate it from the single artist's contribution\n",
    "4. add a dummy variable artist_estimated to show"
   ]
  },
  {
   "cell_type": "code",
   "execution_count": 6,
   "metadata": {
    "collapsed": true
   },
   "outputs": [],
   "source": [
    "def split(x):\n",
    "    l = re.split(\"[+|&/]\",x)\n",
    "    l = [i.strip() for i in list(l)]\n",
    "    return l"
   ]
  },
  {
   "cell_type": "code",
   "execution_count": 7,
   "metadata": {
    "collapsed": true
   },
   "outputs": [],
   "source": [
    "train = train.merge(song,on= 'song_id',how = 'left')\n",
    "test = test.merge(song,on = 'song_id',how = 'left')"
   ]
  },
  {
   "cell_type": "code",
   "execution_count": 8,
   "metadata": {
    "collapsed": true
   },
   "outputs": [],
   "source": [
    "train.artist_name = train.artist_name.fillna(\"no_rec\")\n",
    "test.artist_name = test.artist_name.fillna(\"no_rec\")"
   ]
  },
  {
   "cell_type": "code",
   "execution_count": 9,
   "metadata": {
    "collapsed": true
   },
   "outputs": [],
   "source": [
    "train_art = set()\n",
    "for name in train.artist_name.unique():\n",
    "    train_art.add(name)\n",
    "    for sub in split(name):\n",
    "        train_art.add(sub.strip())"
   ]
  },
  {
   "cell_type": "code",
   "execution_count": 10,
   "metadata": {
    "collapsed": true
   },
   "outputs": [],
   "source": [
    "test_art_diff = set()\n",
    "for name in test.artist_name.unique():\n",
    "    indic = [sub.strip() in train_art for sub in split(name)]\n",
    "    if not any(indic):\n",
    "        test_art_diff.add(name)\n",
    "#19%的artist从来没有出现过"
   ]
  },
  {
   "cell_type": "code",
   "execution_count": 11,
   "metadata": {
    "collapsed": true
   },
   "outputs": [],
   "source": [
    "tt_csame = set()\n",
    "for name in test.artist_name.unique():\n",
    "     if len(split(name)) > 1 and name in train_art:\n",
    "            tt_csame.add(name)"
   ]
  },
  {
   "cell_type": "code",
   "execution_count": 12,
   "metadata": {
    "collapsed": true
   },
   "outputs": [],
   "source": [
    "tt_single = set()\n",
    "for name in train.artist_name.unique():\n",
    "    if len(split(name)) == 1:\n",
    "        tt_single.add(name)"
   ]
  },
  {
   "cell_type": "code",
   "execution_count": 13,
   "metadata": {
    "collapsed": true
   },
   "outputs": [],
   "source": [
    "tt_cdump = set()\n",
    "for name in train.artist_name.unique():\n",
    "    if len(split(name)) > 1 and not name in tt_csame:\n",
    "        tt_cdump.add(name)"
   ]
  },
  {
   "cell_type": "code",
   "execution_count": 14,
   "metadata": {},
   "outputs": [
    {
     "name": "stderr",
     "output_type": "stream",
     "text": [
      "/Applications/Anaconda/anaconda/lib/python3.6/site-packages/scipy/sparse/compressed.py:774: SparseEfficiencyWarning: Changing the sparsity structure of a csc_matrix is expensive. lil_matrix is more efficient.\n",
      "  SparseEfficiencyWarning)\n"
     ]
    }
   ],
   "source": [
    "artdict = dict(zip(list(train_art),range(len(train_art))))\n",
    "userdict = dict(zip(train.msno.unique(),range(train.msno.nunique())))\n",
    "v = train.groupby(['msno','artist_name'])['target'].agg(['sum','count'])\n",
    "v = v.reset_index()\n",
    "v.columns.values[2:] = ['uasum','uacount']\n",
    "uamat = sparse.lil_matrix((len(userdict),2*len(artdict)))\n",
    "v['mind'] = v.msno.apply(lambda x: userdict[x])\n",
    "v['amind'] = v.artist_name.apply(lambda x: artdict[x])\n",
    "for i in v.index:\n",
    "    uamat[v.mind[i],2*v.amind[i]] = v.uasum[i]\n",
    "    uamat[v.mind[i],2*v.amind[i]+1] = v.uacount[i]\n",
    "disdict = {}\n",
    "for key, ind in artdict.items():\n",
    "    l = [artdict[sub] for sub in split(key) if not sub in tt_single]\n",
    "    if len(l) > 0:\n",
    "        disdict[key] = (l,ind)\n",
    "uamat = sparse.csc_matrix(uamat)\n",
    "for key, ind in disdict.items():\n",
    "    for sub in ind[0]:\n",
    "        uamat[:,2*sub] += uamat[:,2*ind[1]]\n",
    "        uamat[:,2*sub+1] += uamat[:,2*ind[1]+1]"
   ]
  },
  {
   "cell_type": "code",
   "execution_count": 15,
   "metadata": {
    "collapsed": true
   },
   "outputs": [],
   "source": [
    "#prepare train artist feature\n",
    "oart = train.groupby('artist_name')['target'].agg(['sum','count'])\n",
    "oart = oart.reset_index()\n",
    "oart.columns.values[1:3] = ['art_sum','art_count']\n",
    "oart['art_freq'] = (oart.art_sum+1)/(oart.art_count+2)\n",
    "train = train.merge(oart,on='artist_name',how = 'left')\n",
    "train.loc[train.art_count == 1,'art_sum'] = 0\n",
    "train.loc[train.art_count == 1,'art_freq'] = 0.5\n",
    "train['is_new_art'] = train.art_count == 1\n",
    "traindump = train[train.artist_name.isin(list(tt_cdump))]\n",
    "train['is_art_dump'] = 0\n",
    "uasum = uamat.sum(axis = 0)\n",
    "for name,group in traindump.groupby(\"artist_name\"):\n",
    "    subind = np.array([artdict[sub.strip()] for sub in split(name)])\n",
    "    gasum = uasum[0,2*subind].sum()/len(subind)\n",
    "    gacount = uasum[0,2*subind+1].sum()/len(subind)\n",
    "    for ind in group.index:\n",
    "        train.set_value(ind,'art_sum',gasum)\n",
    "        train.set_value(ind,'art_count',gacount)\n",
    "        train.set_value(ind,'art_freq',(gasum+1)/(gacount+2))\n",
    "        train.set_value(ind,'is_art_dump',1)"
   ]
  },
  {
   "cell_type": "code",
   "execution_count": 16,
   "metadata": {
    "collapsed": true
   },
   "outputs": [],
   "source": [
    "#prepare test artist feature\n",
    "test = test.merge(oart,on='artist_name',how = 'left')\n",
    "test['is_art_dump'] = 0\n",
    "test['is_new_art'] = 0\n",
    "testnan = test[pd.isnull(test.art_sum)]\n",
    "test.loc[pd.isnull(test.art_sum),'is_new_art'] = 1\n",
    "for name, group in testnan.groupby(\"artist_name\"):\n",
    "    subind = np.array([artdict[sub.strip()] for sub in split(name) if sub.strip() in train_art])\n",
    "    if subind.size == 0:\n",
    "        for ind in group.index:\n",
    "            test.set_value(ind,'art_sum',0)\n",
    "            test.set_value(ind,'art_count',1)\n",
    "            test.set_value(ind,'art_freq',0.5)\n",
    "    else:\n",
    "        gasum = uasum[0,2*subind].sum()/len(subind)\n",
    "        gacount = uasum[0,2*subind+1].sum()/len(subind)\n",
    "        for ind in group.index:\n",
    "            train.set_value(ind,'art_sum',gasum)\n",
    "            test.set_value(ind,'art_count',gacount)\n",
    "            test.set_value(ind,'art_freq',(gasum+1)/(gacount+2))\n",
    "            test.set_value(ind,'is_art_dump',1)"
   ]
  },
  {
   "cell_type": "code",
   "execution_count": 17,
   "metadata": {
    "collapsed": true
   },
   "outputs": [],
   "source": [
    "#prepare train/artist feature\n",
    "v['uafreq'] = (v.uasum+1)/(v.uacount+2)\n",
    "train = train.merge(v,on = ['msno','artist_name'],how = 'left')\n",
    "train.loc[train.uacount == 1,'uafreq'] = 0.5\n",
    "train.loc[train.uacount == 1,'uasum'] = 0\n",
    "for name,group in train[train.artist_name.isin(list(tt_cdump))].groupby('artist_name'):\n",
    "    subcolin = np.array([artdict[sub.strip()] for sub in split(name)])\n",
    "    vsum = uamat[:,2*subcolin][group.mind,:].sum(axis =1)\n",
    "    vcount = uamat[:,2*subcolin+1][group.mind,:].sum(axis = 1)\n",
    "    gi = group.index ; gs = group.shape[0]\n",
    "    for i in range(gs):\n",
    "        train.set_value(gi[i],'uasum',vsum[i]/len(subcolin))\n",
    "        train.set_value(gi[i],'uacount',vcount[i]/len(subcolin))\n",
    "        train.set_value(gi[i],'uafreq',(vsum[i]+len(subcolin))/(vcount[i]+2*len(subcolin)) \n",
    "                        if vcount[i] > len(subcolin) else 0.5)\n",
    "train = train.drop(['mind','amind'],1)"
   ]
  },
  {
   "cell_type": "code",
   "execution_count": 18,
   "metadata": {},
   "outputs": [
    {
     "name": "stderr",
     "output_type": "stream",
     "text": [
      "/Applications/Anaconda/anaconda/lib/python3.6/site-packages/ipykernel_launcher.py:17: SettingWithCopyWarning: \n",
      "A value is trying to be set on a copy of a slice from a DataFrame.\n",
      "Try using .loc[row_indexer,col_indexer] = value instead\n",
      "\n",
      "See the caveats in the documentation: http://pandas.pydata.org/pandas-docs/stable/indexing.html#indexing-view-versus-copy\n"
     ]
    }
   ],
   "source": [
    "#prepare test/artist feature\n",
    "trainmsno = train.msno.unique()\n",
    "test = test.merge(v,on = ['msno','artist_name'],how = 'left')\n",
    "testnan = test[pd.isnull(test.uacount)]\n",
    "testnu = testnan[~testnan.msno.isin(trainmsno)]\n",
    "for name,group in testnu.groupby(['msno','artist_name']):\n",
    "    subcolin = np.array([artdict[sub.strip()] for sub in split(name[1]) if sub.strip() in train_art])\n",
    "    indic = len(subcolin) > 0 \n",
    "    gasum = uasum[0,2*subcolin].sum()/len(subcolin) if indic else 1\n",
    "    gacount = uasum[0,2*subcolin+1].sum()/len(subcolin) if indic else 1\n",
    "    overallfreq = (gasum + len(subcolin))/(gacount + 2*len(subcolin)) if indic else 0.5\n",
    "    for ind in group.index:\n",
    "        test.set_value(ind,'uasum', gasum if indic else 0)\n",
    "        test.set_value(ind,'uacount',gacount if indic else 1)\n",
    "        test.set_value(ind,'uafreq',overallfreq)\n",
    "testrem = test[pd.isnull(test.uafreq)]\n",
    "testrem['mind']= testrem.msno.apply(lambda x: userdict[x])\n",
    "for name,group in testrem.groupby('artist_name'):\n",
    "    subcolin = np.array([artdict[sub.strip()] for sub in split(name) if sub.strip() in train_art])\n",
    "    if len(subcolin) > 0:\n",
    "        vsum = uamat[:,2*subcolin][group.mind,:].sum(axis = 1)\n",
    "        vcount = uamat[:,2*subcolin+1][group.mind,:].sum(axis =1)\n",
    "        gi = group.index\n",
    "        for i in range(group.shape[0]):\n",
    "            test.set_value(gi[i],'uafreq',(vsum[i]+len(subcolin))/(vcount[i] + 2*len(subcolin))\n",
    "                           if vcount[i] > len(subcolin) else 0.5)\n",
    "            test.set_value(gi[i],'uacount',vcount[i]/len(subcolin))\n",
    "            test.set_value(gi[i],'uasum',vsum[i]/len(subcolin))\n",
    "    else:\n",
    "        for ind in group.index:\n",
    "            test.set_value(ind,'uasum',0)\n",
    "            test.set_value(ind,'uacount',1)\n",
    "            test.set_value(ind,'uafreq',0.5)\n",
    "test = test.drop(['mind','amind'],1)"
   ]
  },
  {
   "cell_type": "markdown",
   "metadata": {},
   "source": [
    "Genre Preparation: \n",
    "1. find the intersection of artist between the train and test\n",
    "2. treat the compound artist seperately from single artist\n",
    "3. if a single artist from test set hasn't appeared before, we can do nothing, however, if a compound artist has appeared, we can possibly estimate it from the single artist's contribution\n",
    "4. add a dummy variable genre_estimated to show"
   ]
  },
  {
   "cell_type": "code",
   "execution_count": 19,
   "metadata": {
    "collapsed": true
   },
   "outputs": [],
   "source": [
    "train.genre_ids = train.genre_ids.fillna('-1')\n",
    "test.genre_ids = test.genre_ids.fillna('-1')"
   ]
  },
  {
   "cell_type": "code",
   "execution_count": 20,
   "metadata": {
    "collapsed": true
   },
   "outputs": [],
   "source": [
    "train_genre = set()\n",
    "for genre in train.genre_ids:\n",
    "    train_genre.add(genre)\n",
    "    if not pd.isnull(genre) and \"|\" in genre:\n",
    "        for sub in genre.split(\"|\"):\n",
    "            train_genre.add(sub)\n",
    "test_genre_diff = set()  #只有五个单个genre没有\n",
    "for name in test.genre_ids.unique():\n",
    "    if not pd.isnull(name) and not \"|\" in name and not name in train_genre:\n",
    "        test_genre_diff.add(name)\n",
    "    if not pd.isnull(name) and \"|\" in name:\n",
    "        indic = [x in train_genre for x in name.split(\"|\")]\n",
    "        if not any(indic):\n",
    "            test_genre_diff.add(name)"
   ]
  },
  {
   "cell_type": "code",
   "execution_count": 21,
   "metadata": {
    "collapsed": true
   },
   "outputs": [],
   "source": [
    "train_gsame = set()\n",
    "for genre in test.genre_ids.unique():\n",
    "    if not pd.isnull(genre) and \"|\" in genre and genre in train_genre:\n",
    "        train_gsame.add(genre)"
   ]
  },
  {
   "cell_type": "code",
   "execution_count": 22,
   "metadata": {
    "collapsed": true
   },
   "outputs": [],
   "source": [
    "train_gdump = set()\n",
    "for genre in train.genre_ids.unique():\n",
    "    if not pd.isnull(genre) and \"|\" in genre and not genre in train_gsame:\n",
    "        train_gdump.add(genre)"
   ]
  },
  {
   "cell_type": "code",
   "execution_count": 23,
   "metadata": {
    "collapsed": true
   },
   "outputs": [],
   "source": [
    "train_gsingle = [x for x in train.genre_ids.unique() if not pd.isnull(x) and not \"|\" in x]\n",
    "#test_newsingle = [x for x in test.genre_ids.unique() if not pd.isnull(x) and not \"|\" in x and not x in train_gsingle and x in train_genre]\n",
    "test_newsingle = set()\n",
    "for x in test.genre_ids.unique():\n",
    "    if not pd.isnull(x) and \"|\" in x:\n",
    "        indc = [sub for sub in x.split(\"|\") if sub in train_gsingle]\n",
    "        if len(indc) == 0:\n",
    "            test_newsingle.add(sub)"
   ]
  },
  {
   "cell_type": "code",
   "execution_count": 24,
   "metadata": {
    "collapsed": true
   },
   "outputs": [],
   "source": [
    "test_compnew = set()\n",
    "for genre in test.genre_ids.unique():\n",
    "    if not pd.isnull(genre) and \"|\" in genre and not genre in train_genre:\n",
    "        for sub in genre.split(\"|\"):\n",
    "            if not sub in train_gsingle and sub in train_genre:\n",
    "                test_compnew.add(genre) "
   ]
  },
  {
   "cell_type": "code",
   "execution_count": 25,
   "metadata": {},
   "outputs": [
    {
     "name": "stderr",
     "output_type": "stream",
     "text": [
      "/Applications/Anaconda/anaconda/lib/python3.6/site-packages/scipy/sparse/compressed.py:774: SparseEfficiencyWarning: Changing the sparsity structure of a csc_matrix is expensive. lil_matrix is more efficient.\n",
      "  SparseEfficiencyWarning)\n"
     ]
    }
   ],
   "source": [
    "#prepare user,genre dictionary\n",
    "genredict = dict(zip(list(train_genre),range(len(train_genre))))\n",
    "ugmat = sparse.lil_matrix((len(userdict),2*len(genredict)))\n",
    "v = train.groupby(['msno','genre_ids'])['target'].agg(['sum','count'])\n",
    "v = v.reset_index()\n",
    "v.columns.values[2:] = ['ugsum','ugcount']\n",
    "v['mind'] = v.msno.apply(lambda x: userdict[x])\n",
    "v['gmind'] = v.genre_ids.apply(lambda x: genredict[x])\n",
    "for i in v.index:\n",
    "    ugmat[v.mind[i],2*v.gmind[i]] = v.ugsum[i]\n",
    "    ugmat[v.mind[i],2*v.gmind[i]+1] = v.ugcount[i]\n",
    "ugmat = sparse.csc_matrix(ugmat)\n",
    "for dump in train.genre_ids.unique():\n",
    "    subp = [dumpart for dumpart in dump.split(\"|\") if dumpart not in train_gsingle]\n",
    "    for sub in subp:\n",
    "        ugmat[:,2*genredict[sub]] += ugmat[:,2*genredict[dump]]\n",
    "        ugmat[:,2*genredict[sub]+1] += ugmat[:,2*genredict[dump]+1]"
   ]
  },
  {
   "cell_type": "code",
   "execution_count": 26,
   "metadata": {
    "collapsed": true
   },
   "outputs": [],
   "source": [
    "#prepare the train features on genre\n",
    "ogenre = train.groupby('genre_ids')['target'].agg(['sum','count'])\n",
    "ogenre = ogenre.reset_index()\n",
    "ogenre.columns.values[1:3] = ['genre_sum','genre_count']\n",
    "ogenre['genre_freq'] = (ogenre.genre_sum+1)/(ogenre.genre_count+2)\n",
    "train.genre_ids = train.genre_ids.astype('str')\n",
    "ogenre.genre_ids = ogenre.genre_ids.astype('str')\n",
    "train = train.merge(ogenre,on='genre_ids',how = 'left')\n",
    "train['is_new_genre'] = train.genre_count == 1\n",
    "train.loc[train.genre_count ==1, 'genre_sum'] = 0\n",
    "train.loc[train.genre_count ==1, 'genre_freq'] = 0.5\n",
    "traindump = train[train.genre_ids.isin(list(train_gdump))]\n",
    "train['is_genre_dump'] = 0\n",
    "ugsum = ugmat.sum(axis = 0)\n",
    "for name,group in traindump.groupby(\"genre_ids\"):\n",
    "    subind = np.array([genredict[sub] for sub in name.split(\"|\")])\n",
    "    gasum = ugsum[0,2*subind].sum()/len(subind)\n",
    "    gacount = ugsum[0,2*subind+1].sum()/len(subind)\n",
    "    for ind in group.index:\n",
    "        train.set_value(ind,'genre_sum',gasum)\n",
    "        train.set_value(ind,'genre_count',gacount)\n",
    "        train.set_value(ind,'genre_freq',(gasum+1)/(gacount+2))\n",
    "        train.set_value(ind,'is_genre_dump',1)"
   ]
  },
  {
   "cell_type": "code",
   "execution_count": 27,
   "metadata": {
    "collapsed": true
   },
   "outputs": [],
   "source": [
    "#prepare the test features on genre\n",
    "test = test.merge(ogenre,on='genre_ids',how = 'left')\n",
    "test['is_new_genre'] = 0\n",
    "test['is_genre_dump'] = 0\n",
    "test.loc[pd.isnull(test.genre_sum),'is_new_genre'] = 1\n",
    "testnan = test[pd.isnull(test.genre_sum)]\n",
    "for name, group in testnan.groupby(\"genre_ids\"):\n",
    "    if not \"|\" in name:\n",
    "        for ind in group.index:\n",
    "            test.set_value(ind,'genre_count',0)\n",
    "            test.set_value(ind,'genre_freq',0.5)\n",
    "    else:\n",
    "        subind = np.array([genredict[sub] for sub in name.split(\"|\") if sub in train_genre])\n",
    "        gasum = ugsum[0,2*subind].sum()/len(subind)\n",
    "        gacount = ugsum[0,2*subind+1].sum()/len(subind)\n",
    "        for ind in group.index:\n",
    "            test.set_value(ind,'genre_sum',gasum)\n",
    "            test.set_value(ind,'genre_count',gacount)\n",
    "            test.set_value(ind,'genre_freq',(gasum+1)/(gacount+2))\n",
    "            test.set_value(ind,'is_genre_dump',1)"
   ]
  },
  {
   "cell_type": "code",
   "execution_count": 28,
   "metadata": {
    "collapsed": true
   },
   "outputs": [],
   "source": [
    "#prepare the train feature on genre/user pair\n",
    "v['ugfreq'] = (v.ugsum+1)/(v.ugcount+2)\n",
    "train = train.merge(v,on = ['msno','genre_ids'],how = 'left')\n",
    "train.loc[train.uacount == 1,'uafreq'] = 0.5\n",
    "train.loc[train.uacount == 1,'uasum'] = 0\n",
    "for name,group in train[train.genre_ids.isin(list(train_gdump))].groupby('genre_ids'):\n",
    "    subcolin = np.array([genredict[sub.strip()] for sub in name.split(\"|\")])\n",
    "    vsum = ugmat[:,2*subcolin][group.mind,:].sum(axis =1)\n",
    "    vcount = ugmat[:,2*subcolin+1][group.mind,:].sum(axis = 1)\n",
    "    gi = group.index ; gs = group.shape[0]\n",
    "    for i in range(gs):\n",
    "        train.set_value(gi[i],'ugfreq',(vsum[i]+len(subcolin))/(vcount[i] + 2*len(subcolin))\n",
    "                        if vcount[i] > len(subcolin) else 0.5)\n",
    "        train.set_value(gi[i],'ugcount',vcount[i]/len(subcolin))\n",
    "        train.set_value(gi[i],'ugsum',vsum[i]/len(subcolin))\n",
    "train = train.drop(['mind','gmind'],1)"
   ]
  },
  {
   "cell_type": "code",
   "execution_count": 29,
   "metadata": {},
   "outputs": [
    {
     "name": "stderr",
     "output_type": "stream",
     "text": [
      "/Applications/Anaconda/anaconda/lib/python3.6/site-packages/ipykernel_launcher.py:17: SettingWithCopyWarning: \n",
      "A value is trying to be set on a copy of a slice from a DataFrame.\n",
      "Try using .loc[row_indexer,col_indexer] = value instead\n",
      "\n",
      "See the caveats in the documentation: http://pandas.pydata.org/pandas-docs/stable/indexing.html#indexing-view-versus-copy\n"
     ]
    }
   ],
   "source": [
    "#prepare the test feature on genre/user pair\n",
    "trainmsno = train.msno.unique()\n",
    "test = test.merge(v,on = ['msno','genre_ids'],how = 'left')\n",
    "testnan = test[pd.isnull(test.ugcount)]\n",
    "testnu = testnan[~testnan.msno.isin(trainmsno)]\n",
    "for name,group in testnu.groupby(['msno','genre_ids']):\n",
    "    subcolin = np.array([genredict[sub.strip()] for sub in name[1].split(\"|\") if sub in train_genre])\n",
    "    indic = len(subcolin) > 0\n",
    "    gasum = ugsum[0,2*subcolin].sum()/len(subcolin) if indic else 1\n",
    "    gacount = ugsum[0,2*subcolin+1].sum()/len(subcolin) if indic else 1\n",
    "    overallfreq = (gasum + len(subcolin))/(gacount + 2*len(subcolin)) if indic else 0.5\n",
    "    for ind in group.index:\n",
    "        test.set_value(ind,'ugcount',gacount if indic else 1)\n",
    "        test.set_value(ind,'ugsum',gasum if indic else 0)\n",
    "        test.set_value(ind,'ugfreq',overallfreq)\n",
    "testrem = test[pd.isnull(test.ugfreq)]\n",
    "testrem['mind']= testrem.msno.apply(lambda x: userdict[x])\n",
    "for name,group in testrem.groupby('genre_ids'):\n",
    "    subcolin = np.array([genredict[sub.strip()] for sub in name.split(\"|\") if sub in train_genre])\n",
    "    if len(subcolin) > 0:\n",
    "        vsum = ugmat[:,2*subcolin][group.mind,:].sum(axis = 1)\n",
    "        vcount = ugmat[:,2*subcolin+1][group.mind,:].sum(axis =1)\n",
    "        gi = group.index\n",
    "        for i in range(group.shape[0]):\n",
    "            test.set_value(gi[i],'ugfreq',(vsum[i]+len(subcolin))/(vcount[i] + 2*len(subcolin))\n",
    "                           if vcount[i] > len(subcolin) else 0.5)\n",
    "            test.set_value(gi[i],'ugcount',vcount[i]/len(subcolin))\n",
    "            test.set_value(gi[i],'ugsum',vsum[i]/len(subcolin))\n",
    "    else:\n",
    "        for ind in group.index:\n",
    "            test.set_value(ind,'ugsum',0)\n",
    "            test.set_value(ind,'ugcount',1)\n",
    "            test.set_value(ind,'ugfreq',0.5)\n",
    "test = test.drop(['mind','gmind'],1)"
   ]
  },
  {
   "cell_type": "markdown",
   "metadata": {},
   "source": [
    "# members"
   ]
  },
  {
   "cell_type": "code",
   "execution_count": 30,
   "metadata": {
    "collapsed": true
   },
   "outputs": [],
   "source": [
    "#member clean\n",
    "#How many days has they been active\n",
    "members['rtime'] = members['registration_init_time'].apply(\n",
    "    lambda x : pd.to_datetime(str(x), format='%Y%m%d'))\n",
    "members['etime'] = members['expiration_date'].apply(\n",
    "    lambda x : pd.to_datetime(str(x), format='%Y%m%d'))\n",
    "members['numactivedays'] = (members['etime'] - members['rtime']).dt.days\n",
    "min_day = members['rtime'].min()\n",
    "members['day_id_res'] = (members['rtime'] - min_day).dt.days+1\n",
    "members['day_id_exp'] = (members['etime'] - min_day).dt.days+1\n",
    "members['r_year'] = members['rtime'].dt.year\n",
    "members['r_month'] = members['rtime'].dt.month\n",
    "members['r_day'] = members['rtime'].dt.day\n",
    "members['e_year'] = members['etime'].dt.year\n",
    "members['e_month'] = members['etime'].dt.month\n",
    "members['e_day'] = members['etime'].dt.day"
   ]
  },
  {
   "cell_type": "code",
   "execution_count": 31,
   "metadata": {
    "collapsed": true
   },
   "outputs": [],
   "source": [
    "#cleaned age and cleaned_gender\n",
    "members['is_male'] = members.gender == 'male'\n",
    "members['is_female'] = members.gender == 'female'\n",
    "members['age_mtrue'] = members.bd.apply(lambda x: 1 if x > 10 and x < 80 else 0)\n",
    "weighted_age = round(members.bd[members.age_mtrue == 1].mean())\n",
    "members['age_clean'] = members.bd.apply(lambda x: x if x >10 and x < 80 else weighted_age)"
   ]
  },
  {
   "cell_type": "code",
   "execution_count": 32,
   "metadata": {
    "collapsed": true
   },
   "outputs": [],
   "source": [
    "train = train.merge(members,on = 'msno', how = 'left')\n",
    "test = test.merge(members,on = 'msno', how = 'left')"
   ]
  },
  {
   "cell_type": "code",
   "execution_count": 33,
   "metadata": {
    "collapsed": true
   },
   "outputs": [],
   "source": [
    "def isrc_to_year(isrc):\n",
    "    if type(isrc) == str:\n",
    "        if int(isrc[5:7]) > 17:\n",
    "            return 1900 + int(isrc[5:7])\n",
    "        else:\n",
    "            return 2000 + int(isrc[5:7])\n",
    "    else:\n",
    "        return np.nan"
   ]
  },
  {
   "cell_type": "code",
   "execution_count": 34,
   "metadata": {
    "collapsed": true
   },
   "outputs": [],
   "source": [
    "songs_extra = pd.read_csv('song_extra_info.csv')\n",
    "songs_extra['song_year'] = songs_extra['isrc'].apply(isrc_to_year)\n",
    "songs_extra.drop(['isrc', 'name'], axis = 1, inplace = True)\n",
    "\n",
    "train = train.merge(songs_extra, on='song_id', how='left')\n",
    "test = test.merge(songs_extra, on='song_id', how='left')"
   ]
  },
  {
   "cell_type": "markdown",
   "metadata": {},
   "source": [
    "# backup"
   ]
  },
  {
   "cell_type": "code",
   "execution_count": 35,
   "metadata": {
    "collapsed": true
   },
   "outputs": [],
   "source": [
    "backup_train = train\n",
    "backup_test = test"
   ]
  },
  {
   "cell_type": "code",
   "execution_count": 36,
   "metadata": {
    "collapsed": true
   },
   "outputs": [],
   "source": [
    "for col in train.columns:\n",
    "    if train[col].dtype == object:\n",
    "        train[col] = train[col].astype('category')\n",
    "        test[col] = test[col].astype('category')"
   ]
  },
  {
   "cell_type": "code",
   "execution_count": 37,
   "metadata": {
    "collapsed": true
   },
   "outputs": [],
   "source": [
    "train = train.drop(['rtime','etime','genre_freq','ugfreq','user_freq'],1)\n",
    "test = test.drop(['rtime','etime','genre_freq','ugfreq','user_freq'],1)"
   ]
  },
  {
   "cell_type": "markdown",
   "metadata": {},
   "source": [
    "# light gbm"
   ]
  },
  {
   "cell_type": "code",
   "execution_count": 38,
   "metadata": {
    "collapsed": true
   },
   "outputs": [],
   "source": [
    "X_tr = train.drop(['target'], axis=1)\n",
    "y_tr = train['target'].values\n",
    "\n",
    "X_val = test.drop(['target'], axis=1)\n",
    "y_val = test['target'].values\n",
    "\n"
   ]
  },
  {
   "cell_type": "code",
   "execution_count": 39,
   "metadata": {
    "collapsed": true
   },
   "outputs": [],
   "source": [
    "lgb_train = lgb.Dataset(X_tr, y_tr)\n",
    "lgb_val = lgb.Dataset(X_val, y_val)"
   ]
  },
  {
   "cell_type": "code",
   "execution_count": 72,
   "metadata": {},
   "outputs": [
    {
     "name": "stderr",
     "output_type": "stream",
     "text": [
      "/Applications/Anaconda/anaconda/lib/python3.6/site-packages/lightgbm/engine.py:99: UserWarning: Found `num_rounds` in params. Will use it instead of argument\n",
      "  warnings.warn(\"Found `{}` in params. Will use it instead of argument\".format(alias))\n"
     ]
    },
    {
     "name": "stdout",
     "output_type": "stream",
     "text": [
      "[5]\tvalid_0's binary_logloss: 0.591591\tvalid_0's auc: 0.779348\n",
      "[10]\tvalid_0's binary_logloss: 0.575033\tvalid_0's auc: 0.777517\n",
      "[15]\tvalid_0's binary_logloss: 0.563417\tvalid_0's auc: 0.782363\n",
      "[20]\tvalid_0's binary_logloss: 0.564172\tvalid_0's auc: 0.785899\n",
      "[25]\tvalid_0's binary_logloss: 0.575729\tvalid_0's auc: 0.785265\n",
      "[30]\tvalid_0's binary_logloss: 0.57949\tvalid_0's auc: 0.787512\n",
      "[35]\tvalid_0's binary_logloss: 0.590228\tvalid_0's auc: 0.788086\n",
      "[40]\tvalid_0's binary_logloss: 0.601641\tvalid_0's auc: 0.787398\n",
      "[45]\tvalid_0's binary_logloss: 0.604718\tvalid_0's auc: 0.788126\n",
      "[50]\tvalid_0's binary_logloss: 0.611815\tvalid_0's auc: 0.787311\n"
     ]
    }
   ],
   "source": [
    "params = {\n",
    "        'objective': 'binary',\n",
    "        'boosting': 'gbdt',\n",
    "        'learning_rate': 0.2 ,\n",
    "        'verbose': 0,\n",
    "        'num_leaves': 100,\n",
    "        'bagging_fraction': 0.8,\n",
    "        'bagging_freq': 1,\n",
    "        'bagging_seed': 1,\n",
    "        'feature_fraction': 0.3,\n",
    "        'feature_fraction_seed': 1,\n",
    "        'max_bin': 256,\n",
    "        'max_depth': 10,\n",
    "        'num_rounds': 50,\n",
    "        'metric' : ['auc', 'binary_logloss']\n",
    "    }\n",
    "\n",
    "lgbm_model = lgb.train(params, train_set = lgb_train, valid_sets = lgb_val, verbose_eval=5)"
   ]
  },
  {
   "cell_type": "code",
   "execution_count": 84,
   "metadata": {},
   "outputs": [
    {
     "name": "stderr",
     "output_type": "stream",
     "text": [
      "/Applications/Anaconda/anaconda/lib/python3.6/site-packages/lightgbm/engine.py:99: UserWarning: Found `num_rounds` in params. Will use it instead of argument\n",
      "  warnings.warn(\"Found `{}` in params. Will use it instead of argument\".format(alias))\n"
     ]
    },
    {
     "name": "stdout",
     "output_type": "stream",
     "text": [
      "[5]\tvalid_0's auc: 0.670151\n",
      "[10]\tvalid_0's auc: 0.753687\n",
      "[15]\tvalid_0's auc: 0.766889\n",
      "[20]\tvalid_0's auc: 0.769764\n",
      "[5]\tvalid_0's auc: 0.761682\n",
      "[10]\tvalid_0's auc: 0.756279\n",
      "[15]\tvalid_0's auc: 0.763635\n",
      "[20]\tvalid_0's auc: 0.76812\n",
      "[5]\tvalid_0's auc: 0.747283\n",
      "[10]\tvalid_0's auc: 0.754674\n",
      "[15]\tvalid_0's auc: 0.759188\n",
      "[20]\tvalid_0's auc: 0.762119\n",
      "[5]\tvalid_0's auc: 0.744966\n",
      "[10]\tvalid_0's auc: 0.754477\n",
      "[15]\tvalid_0's auc: 0.757024\n",
      "[20]\tvalid_0's auc: 0.757208\n",
      "[5]\tvalid_0's auc: 0.743805\n",
      "[10]\tvalid_0's auc: 0.754425\n",
      "[15]\tvalid_0's auc: 0.7541\n",
      "[20]\tvalid_0's auc: 0.758318\n",
      "[5]\tvalid_0's auc: 0.675496\n",
      "[10]\tvalid_0's auc: 0.761812\n",
      "[15]\tvalid_0's auc: 0.772613\n",
      "[20]\tvalid_0's auc: 0.775154\n",
      "[5]\tvalid_0's auc: 0.769536\n",
      "[10]\tvalid_0's auc: 0.766196\n",
      "[15]\tvalid_0's auc: 0.771006\n",
      "[20]\tvalid_0's auc: 0.776512\n",
      "[5]\tvalid_0's auc: 0.75931\n",
      "[10]\tvalid_0's auc: 0.760601\n",
      "[15]\tvalid_0's auc: 0.766678\n",
      "[20]\tvalid_0's auc: 0.769191\n",
      "[5]\tvalid_0's auc: 0.758625\n",
      "[10]\tvalid_0's auc: 0.763298\n",
      "[15]\tvalid_0's auc: 0.764452\n",
      "[20]\tvalid_0's auc: 0.762814\n",
      "[5]\tvalid_0's auc: 0.756451\n",
      "[10]\tvalid_0's auc: 0.757837\n",
      "[15]\tvalid_0's auc: 0.760375\n",
      "[20]\tvalid_0's auc: 0.762802\n",
      "[5]\tvalid_0's auc: 0.678966\n",
      "[10]\tvalid_0's auc: 0.76407\n",
      "[15]\tvalid_0's auc: 0.7752\n",
      "[20]\tvalid_0's auc: 0.778504\n",
      "[5]\tvalid_0's auc: 0.775239\n",
      "[10]\tvalid_0's auc: 0.772953\n",
      "[15]\tvalid_0's auc: 0.776867\n",
      "[20]\tvalid_0's auc: 0.780994\n",
      "[5]\tvalid_0's auc: 0.767333\n",
      "[10]\tvalid_0's auc: 0.768178\n",
      "[15]\tvalid_0's auc: 0.771682\n",
      "[20]\tvalid_0's auc: 0.774074\n",
      "[5]\tvalid_0's auc: 0.76246\n",
      "[10]\tvalid_0's auc: 0.767664\n",
      "[15]\tvalid_0's auc: 0.769864\n",
      "[20]\tvalid_0's auc: 0.769952\n",
      "[5]\tvalid_0's auc: 0.759735\n",
      "[10]\tvalid_0's auc: 0.764798\n",
      "[15]\tvalid_0's auc: 0.764699\n",
      "[20]\tvalid_0's auc: 0.768005\n",
      "[5]\tvalid_0's auc: 0.680756\n",
      "[10]\tvalid_0's auc: 0.766103\n",
      "[15]\tvalid_0's auc: 0.776836\n",
      "[20]\tvalid_0's auc: 0.780621\n",
      "[5]\tvalid_0's auc: 0.778317\n",
      "[10]\tvalid_0's auc: 0.776774\n",
      "[15]\tvalid_0's auc: 0.781531\n",
      "[20]\tvalid_0's auc: 0.785038\n",
      "[5]\tvalid_0's auc: 0.772735\n",
      "[10]\tvalid_0's auc: 0.773433\n",
      "[15]\tvalid_0's auc: 0.776795\n",
      "[20]\tvalid_0's auc: 0.778436\n",
      "[5]\tvalid_0's auc: 0.766293\n",
      "[10]\tvalid_0's auc: 0.771631\n",
      "[15]\tvalid_0's auc: 0.775066\n",
      "[20]\tvalid_0's auc: 0.774418\n",
      "[5]\tvalid_0's auc: 0.763459\n",
      "[10]\tvalid_0's auc: 0.768794\n",
      "[15]\tvalid_0's auc: 0.769877\n",
      "[20]\tvalid_0's auc: 0.770287\n",
      "[5]\tvalid_0's auc: 0.681996\n",
      "[10]\tvalid_0's auc: 0.766498\n",
      "[15]\tvalid_0's auc: 0.777228\n",
      "[20]\tvalid_0's auc: 0.78114\n",
      "[5]\tvalid_0's auc: 0.779348\n",
      "[10]\tvalid_0's auc: 0.777517\n",
      "[15]\tvalid_0's auc: 0.782363\n",
      "[20]\tvalid_0's auc: 0.785899\n",
      "[5]\tvalid_0's auc: 0.774253\n",
      "[10]\tvalid_0's auc: 0.77471\n",
      "[15]\tvalid_0's auc: 0.777854\n",
      "[20]\tvalid_0's auc: 0.779451\n",
      "[5]\tvalid_0's auc: 0.76738\n",
      "[10]\tvalid_0's auc: 0.773451\n",
      "[15]\tvalid_0's auc: 0.776921\n",
      "[20]\tvalid_0's auc: 0.777354\n",
      "[5]\tvalid_0's auc: 0.76453\n",
      "[10]\tvalid_0's auc: 0.770391\n",
      "[15]\tvalid_0's auc: 0.771183\n",
      "[20]\tvalid_0's auc: 0.771076\n"
     ]
    }
   ],
   "source": [
    "from sklearn.metrics import roc_curve, auc\n",
    "import matplotlib.pyplot as plt\n",
    "\n",
    "tprs = []\n",
    "fprs = []\n",
    "roc_labels = []\n",
    "roc_auc_score = []\n",
    "\n",
    "\n",
    "max_depth =[3,5,7,9,10]\n",
    "#num_leaves = [50,70,80,100,120]\n",
    "feature_fraction = [0.1,0.3,0.5,0.7,0.9]\n",
    "\n",
    "for i in max_depth:\n",
    "     for j in feature_fraction:\n",
    "        params = {\n",
    "            'objective': 'binary',\n",
    "            'boosting': 'gbdt',\n",
    "            'learning_rate': 0.2 ,\n",
    "            'verbose': 0,\n",
    "            'num_leaves': 100,\n",
    "            'bagging_fraction': 0.8,\n",
    "            'bagging_freq': 1,\n",
    "            'bagging_seed': 1,\n",
    "            'feature_fraction': j,\n",
    "            'feature_fraction_seed': 1,\n",
    "            'max_bin': 256,\n",
    "            'max_depth': i,\n",
    "            'num_rounds': 20,\n",
    "            'metric' : 'auc'\n",
    "            }\n",
    "\n",
    "        lgbm_model = lgb.train(params, train_set = lgb_train, valid_sets = lgb_val, verbose_eval=5)\n",
    "        prediction = lgbm_model.predict(X_val)\n",
    "    \n",
    "        fpr, tpr, thresholds = roc_curve(y_val, prediction)\n",
    "        roc_auc = auc(fpr,tpr)\n",
    "        tprs.append(tpr); fprs.append(fpr);roc_auc_score.append(roc_auc); roc_labels.append('max_depth: '+str(i)+' feature_fraction: '+str(j))\n",
    "\n"
   ]
  },
  {
   "cell_type": "code",
   "execution_count": null,
   "metadata": {
    "collapsed": true
   },
   "outputs": [],
   "source": []
  },
  {
   "cell_type": "code",
   "execution_count": null,
   "metadata": {
    "collapsed": true
   },
   "outputs": [],
   "source": []
  },
  {
   "cell_type": "code",
   "execution_count": 85,
   "metadata": {},
   "outputs": [
    {
     "data": {
      "image/png": "[encoded data removed]",
      "text/plain": [
       "<matplotlib.figure.Figure at 0x16132a898>"
      ]
     },
     "metadata": {},
     "output_type": "display_data"
    }
   ],
   "source": [
    "fig = plt.figure(figsize = (12, 6))\n",
    "ax = plt.subplot(111)\n",
    "\n",
    "\n",
    "\n",
    "for fpr, tpr, roc_label, auc in zip(fprs, tprs, roc_labels, roc_auc_score): \n",
    "    if auc >=0.78:\n",
    "        plt.plot(fpr, tpr, label = roc_label + ' (AUC = %0.3f)' % auc)\n",
    "\n",
    "plt.xlabel(\"fpr\")\n",
    "plt.ylabel(\"tpr\")\n",
    "plt.title('LightGBM Tuning ROC')\n",
    "plt.legend(loc=\"lower right\")\n",
    "plt.plot([0, 1], [0, 1], 'k--')\n",
    "plt.xlim([0,1])\n",
    "plt.ylim([0, 1])\n",
    "plt.show()"
   ]
  },
  {
   "cell_type": "code",
   "execution_count": 73,
   "metadata": {},
   "outputs": [
    {
     "name": "stderr",
     "output_type": "stream",
     "text": [
      "/Applications/Anaconda/anaconda/lib/python3.6/site-packages/lightgbm/engine.py:99: UserWarning: Found `num_rounds` in params. Will use it instead of argument\n",
      "  warnings.warn(\"Found `{}` in params. Will use it instead of argument\".format(alias))\n"
     ]
    },
    {
     "name": "stdout",
     "output_type": "stream",
     "text": [
      "[5]\tvalid_0's binary_logloss: 0.585084\tvalid_0's auc: 0.772718\n",
      "[10]\tvalid_0's binary_logloss: 0.597275\tvalid_0's auc: 0.765146\n",
      "[15]\tvalid_0's binary_logloss: 0.591575\tvalid_0's auc: 0.770773\n",
      "[20]\tvalid_0's binary_logloss: 0.583073\tvalid_0's auc: 0.782102\n",
      "[25]\tvalid_0's binary_logloss: 0.579917\tvalid_0's auc: 0.783414\n",
      "[30]\tvalid_0's binary_logloss: 0.581778\tvalid_0's auc: 0.783589\n",
      "[35]\tvalid_0's binary_logloss: 0.58038\tvalid_0's auc: 0.78413\n",
      "[40]\tvalid_0's binary_logloss: 0.582512\tvalid_0's auc: 0.78367\n",
      "[45]\tvalid_0's binary_logloss: 0.582822\tvalid_0's auc: 0.78339\n",
      "[50]\tvalid_0's binary_logloss: 0.585346\tvalid_0's auc: 0.782908\n"
     ]
    }
   ],
   "source": [
    "params = {\n",
    "        'objective': 'binary',\n",
    "        'boosting': 'rf',\n",
    "        'learning_rate': 0.2 ,\n",
    "        'verbose': 0,\n",
    "        'num_leaves': 100,\n",
    "        'bagging_fraction': 0.8,\n",
    "        'bagging_freq': 1,\n",
    "        'bagging_seed': 1,\n",
    "        'feature_fraction': 0.3,\n",
    "        'feature_fraction_seed': 1,\n",
    "        'max_bin': 256,\n",
    "        'max_depth': 10,\n",
    "        'num_rounds': 20,\n",
    "        'metric' : ['auc', 'binary_logloss']\n",
    "    }\n",
    "\n",
    "lgbm_model = lgb.train(params, train_set = lgb_train, valid_sets = lgb_val, verbose_eval=5)"
   ]
  },
  {
   "cell_type": "code",
   "execution_count": 82,
   "metadata": {
    "scrolled": true
   },
   "outputs": [
    {
     "name": "stderr",
     "output_type": "stream",
     "text": [
      "/Applications/Anaconda/anaconda/lib/python3.6/site-packages/lightgbm/engine.py:99: UserWarning: Found `num_rounds` in params. Will use it instead of argument\n",
      "  warnings.warn(\"Found `{}` in params. Will use it instead of argument\".format(alias))\n"
     ]
    },
    {
     "name": "stdout",
     "output_type": "stream",
     "text": [
      "[5]\tvalid_0's binary_logloss: 0.593252\tvalid_0's auc: 0.777222\n",
      "[10]\tvalid_0's binary_logloss: 0.57707\tvalid_0's auc: 0.775312\n",
      "[15]\tvalid_0's binary_logloss: 0.566301\tvalid_0's auc: 0.779371\n",
      "[20]\tvalid_0's binary_logloss: 0.566769\tvalid_0's auc: 0.783322\n",
      "[25]\tvalid_0's binary_logloss: 0.57799\tvalid_0's auc: 0.782692\n",
      "[30]\tvalid_0's binary_logloss: 0.582394\tvalid_0's auc: 0.784328\n",
      "[35]\tvalid_0's binary_logloss: 0.593836\tvalid_0's auc: 0.78449\n",
      "[40]\tvalid_0's binary_logloss: 0.604507\tvalid_0's auc: 0.784263\n",
      "[45]\tvalid_0's binary_logloss: 0.613586\tvalid_0's auc: 0.784402\n",
      "[50]\tvalid_0's binary_logloss: 0.620763\tvalid_0's auc: 0.783567\n"
     ]
    }
   ],
   "source": [
    "params = {\n",
    "        'objective': 'binary',\n",
    "        'boosting': 'gbdt',\n",
    "        'learning_rate': 0.2 ,\n",
    "        'verbose': 0,\n",
    "        'num_leaves': 150,\n",
    "        'bagging_fraction': 0.5,\n",
    "        'bagging_freq': 1,\n",
    "        'bagging_seed': 1,\n",
    "        'feature_fraction': 0.3,\n",
    "        'feature_fraction_seed': 1,\n",
    "        'max_bin': 256,\n",
    "        'max_depth': 8,\n",
    "        'num_rounds': 50,\n",
    "        'metric' : ['auc', 'binary_logloss']\n",
    "    }\n",
    "\n",
    "lgbm_model = lgb.train(params, train_set = lgb_train, valid_sets = lgb_val, verbose_eval=5)"
   ]
  },
  {
   "cell_type": "code",
   "execution_count": null,
   "metadata": {
    "collapsed": true
   },
   "outputs": [],
   "source": []
  },
  {
   "cell_type": "code",
   "execution_count": 83,
   "metadata": {
    "scrolled": true
   },
   "outputs": [
    {
     "name": "stderr",
     "output_type": "stream",
     "text": [
      "/Applications/Anaconda/anaconda/lib/python3.6/site-packages/lightgbm/engine.py:99: UserWarning: Found `num_rounds` in params. Will use it instead of argument\n",
      "  warnings.warn(\"Found `{}` in params. Will use it instead of argument\".format(alias))\n"
     ]
    },
    {
     "name": "stdout",
     "output_type": "stream",
     "text": [
      "[5]\tvalid_0's binary_logloss: 0.593258\tvalid_0's auc: 0.777132\n",
      "[10]\tvalid_0's binary_logloss: 0.576977\tvalid_0's auc: 0.775427\n",
      "[15]\tvalid_0's binary_logloss: 0.565843\tvalid_0's auc: 0.779856\n",
      "[20]\tvalid_0's binary_logloss: 0.56645\tvalid_0's auc: 0.783635\n"
     ]
    }
   ],
   "source": [
    "params = {\n",
    "        'objective': 'binary',\n",
    "        'boosting': 'gbdt',\n",
    "        'learning_rate': 0.2 ,\n",
    "        'verbose': 0,\n",
    "        'num_leaves': 200,\n",
    "        'bagging_fraction': 0.5,\n",
    "        'bagging_freq': 1,\n",
    "        'bagging_seed': 1,\n",
    "        'feature_fraction': 0.3,\n",
    "        'feature_fraction_seed': 1,\n",
    "        'max_bin': 300,\n",
    "        'max_depth': 8,\n",
    "        'num_rounds': 20,\n",
    "        'metric' : ['auc', 'binary_logloss']\n",
    "    }\n",
    "\n",
    "lgbm_model = lgb.train(params, train_set = lgb_train, valid_sets = lgb_val, verbose_eval=5)"
   ]
  },
  {
   "cell_type": "code",
   "execution_count": null,
   "metadata": {
    "collapsed": true
   },
   "outputs": [],
   "source": []
  },
  {
   "cell_type": "code",
   "execution_count": null,
   "metadata": {
    "collapsed": true
   },
   "outputs": [],
   "source": []
  },
  {
   "cell_type": "code",
   "execution_count": 96,
   "metadata": {},
   "outputs": [
    {
     "data": {
      "text/plain": [
       "song_id        kKJ2JNU5h8rphyW21ovC+RZU+yEHPM+3w85J37p7vEQ=\n",
       "song_length                                          235520\n",
       "genre_ids                                   864|857|850|843\n",
       "artist_name                                            貴族精選\n",
       "composer                                       Joe Hisaishi\n",
       "lyricist                                     Hayao Miyazaki\n",
       "language                                                 17\n",
       "Name: 5, dtype: object"
      ]
     },
     "execution_count": 96,
     "metadata": {},
     "output_type": "execute_result"
    }
   ],
   "source": [
    "# min_length_song = song_data.iloc[song_data['song_length'].idxmin()]\n",
    "# max_length_song = song_data.iloc[song_data['song_length'].idxmax()]\n",
    "# print(min_length_song[['artist_name', 'composer', 'lyricist', 'number_of_composers',\n",
    "#                       'number_of_lyricists', 'song_length', 'repeat_play_chance']], '\\n')\n",
    "\n",
    "song.iloc[5]"
   ]
  },
  {
   "cell_type": "code",
   "execution_count": 94,
   "metadata": {},
   "outputs": [
    {
     "data": {
      "text/plain": [
       "Index(['msno', 'song_id', 'source_system_tab', 'source_screen_name',\n",
       "       'source_type', 'target', 'user_sum', 'user_count', 'is_new_user',\n",
       "       'song_sum', 'song_count', 'song_freq', 'is_new_song', 'song_length',\n",
       "       'genre_ids', 'artist_name', 'composer', 'lyricist', 'language',\n",
       "       'art_sum', 'art_count', 'art_freq', 'is_new_art', 'is_art_dump',\n",
       "       'uasum', 'uacount', 'uafreq', 'genre_sum', 'genre_count',\n",
       "       'is_new_genre', 'is_genre_dump', 'ugsum', 'ugcount', 'city', 'bd',\n",
       "       'gender', 'registered_via', 'registration_init_time', 'expiration_date',\n",
       "       'numactivedays', 'day_id_res', 'day_id_exp', 'r_year', 'r_month',\n",
       "       'r_day', 'e_year', 'e_month', 'e_day', 'is_male', 'is_female',\n",
       "       'age_mtrue', 'age_clean', 'song_year'],\n",
       "      dtype='object')"
      ]
     },
     "execution_count": 94,
     "metadata": {},
     "output_type": "execute_result"
    }
   ],
   "source": [
    "train.columns"
   ]
  },
  {
   "cell_type": "code",
   "execution_count": null,
   "metadata": {
    "collapsed": true
   },
   "outputs": [],
   "source": []
  }
 ],
 "metadata": {
  "kernelspec": {
   "display_name": "Python 3",
   "language": "python",
   "name": "python3"
  },
  "language_info": {
   "codemirror_mode": {
    "name": "ipython",
    "version": 3
   },
   "file_extension": ".py",
   "mimetype": "text/x-python",
   "name": "python",
   "nbconvert_exporter": "python",
   "pygments_lexer": "ipython3",
   "version": "3.6.1"
  }
 },
 "nbformat": 4,
 "nbformat_minor": 2
}
